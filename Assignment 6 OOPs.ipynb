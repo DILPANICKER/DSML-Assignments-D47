{
 "cells": [
  {
   "cell_type": "markdown",
   "id": "4cb65824-b9e8-4f8a-af22-fbcaa0992018",
   "metadata": {},
   "source": [
    "## ASSIGNMENT 6 / OOPs / Deadline 30 March"
   ]
  },
  {
   "cell_type": "markdown",
   "id": "70962623-6403-417b-999e-d5e78fe6b525",
   "metadata": {},
   "source": [
    "## 1"
   ]
  },
  {
   "cell_type": "code",
   "execution_count": null,
   "id": "e0601982-39f6-4c4d-ae95-f5e7c0fdc383",
   "metadata": {},
   "outputs": [],
   "source": [
    "#Build a program to manage a university's course catalog. You want to define a base class Course that has the following \n",
    "#properties:\n",
    "#course_code: a string representing the course code (e.g., \"CS101\")\n",
    "#course_name: a string representing the course name (e.g., \"Introduction to Computer Science\")\n",
    "#credit_hours: an integer representing the credit hours for the course (e.g., 3)\n",
    "#You also want to define two subclasses CoreCourse and ElectiveCourse, which inherit from the Course class.\n",
    "#CoreCourse should have an additional property required_for_major which is a boolean representing whether the course is required for a particular major.\n",
    "#ElectiveCourse should have an additional property elective_type which is a string representing the type of elective\n",
    "# (e.g., \"general\", \"technical\", \"liberal arts\")."
   ]
  },
  {
   "cell_type": "code",
   "execution_count": 2,
   "id": "d3ea1900-02f9-476e-bd62-98cdfd548eb1",
   "metadata": {},
   "outputs": [
    {
     "name": "stdout",
     "output_type": "stream",
     "text": [
      "Core Course Details:\n",
      "Course Code: CS101, Name: Introduction to Computer Science, Credit Hours: 3\n",
      "Required for Major: Yes\n",
      "\n",
      "Elective Course Details:\n",
      "Course Code: HIST201, Name: World History, Credit Hours: 2\n",
      "Elective Type: Liberal Arts\n"
     ]
    }
   ],
   "source": [
    "# Base class\n",
    "class Course:\n",
    "    def __init__(self, course_code, course_name, credit_hours):\n",
    "        self.course_code = course_code\n",
    "        self.course_name = course_name\n",
    "        self.credit_hours = credit_hours\n",
    "\n",
    "    def display_info(self):\n",
    "        print(f\"Course Code: {self.course_code}, Name: {self.course_name}, Credit Hours: {self.credit_hours}\")\n",
    "\n",
    "# Subclass for core courses\n",
    "class CoreCourse(Course):\n",
    "    def __init__(self, course_code, course_name, credit_hours, required_for_major):\n",
    "        super().__init__(course_code, course_name, credit_hours)\n",
    "        self.required_for_major = required_for_major\n",
    "\n",
    "    def display_info(self):\n",
    "        super().display_info()\n",
    "        print(f\"Required for Major: {'Yes' if self.required_for_major else 'No'}\")\n",
    "\n",
    "# Subclass for elective courses\n",
    "class ElectiveCourse(Course):\n",
    "    def __init__(self, course_code, course_name, credit_hours, elective_type):\n",
    "        super().__init__(course_code, course_name, credit_hours)\n",
    "        self.elective_type = elective_type\n",
    "\n",
    "    def display_info(self):\n",
    "        super().display_info()\n",
    "        print(f\"Elective Type: {self.elective_type}\")\n",
    "\n",
    "# Example usage\n",
    "core_course = CoreCourse(\"CS101\", \"Introduction to Computer Science\", 3, True)\n",
    "elective_course = ElectiveCourse(\"HIST201\", \"World History\", 2, \"Liberal Arts\")\n",
    "\n",
    "print(\"Core Course Details:\")\n",
    "core_course.display_info()\n",
    "print(\"\\nElective Course Details:\")\n",
    "elective_course.display_info()\n"
   ]
  },
  {
   "cell_type": "markdown",
   "id": "1dc97fea-7059-42f4-8579-ff55b7ff7e4a",
   "metadata": {},
   "source": [
    "## 2"
   ]
  },
  {
   "cell_type": "code",
   "execution_count": null,
   "id": "06b54fc9-e184-4fe6-9a72-01e1b455d6de",
   "metadata": {},
   "outputs": [],
   "source": [
    "# Question 2: \n",
    "# Create a Python module named employee that contains a class Employee with attributes name, salary and methods get_name() and get_salary().\n",
    "# Write a program to use this module to create an object of the Employee class and display its name and salary.\n"
   ]
  },
  {
   "cell_type": "code",
   "execution_count": 5,
   "id": "bcbe7b90-1ec5-463a-a169-7605177f5058",
   "metadata": {},
   "outputs": [
    {
     "name": "stdout",
     "output_type": "stream",
     "text": [
      "Overwriting employee.py\n"
     ]
    }
   ],
   "source": [
    "%%writefile employee.py\n",
    "class Employee:\n",
    "    def __init__(self, name, salary):\n",
    "        self.name = name\n",
    "        self.salary = salary\n",
    "    \n",
    "    def get_name(self):\n",
    "        return self.name\n",
    "    \n",
    "    def get_salary(self):\n",
    "        return self.salary\n",
    "    \n",
    "    def __str__(self):\n",
    "        return f\"Employee: {self.name}, Salary: ${self.salary:,.2f}\""
   ]
  },
  {
   "cell_type": "code",
   "execution_count": 6,
   "id": "bcbf3302-abf7-4cbb-bf01-733ccdffc22c",
   "metadata": {},
   "outputs": [
    {
     "name": "stdout",
     "output_type": "stream",
     "text": [
      "Dileep\n",
      "75000\n",
      "Employee: Dileep, Salary: $75,000.00\n"
     ]
    }
   ],
   "source": [
    "\n",
    "from employee import Employee\n",
    "\n",
    "emp = Employee(\"Dileep\", 75000)\n",
    "\n",
    "print(emp.get_name())\n",
    "print(emp.get_salary())\n",
    "print(emp)  "
   ]
  },
  {
   "cell_type": "code",
   "execution_count": null,
   "id": "12e42c65-a8b0-4cc7-bef2-a2303ffad655",
   "metadata": {},
   "outputs": [],
   "source": []
  }
 ],
 "metadata": {
  "kernelspec": {
   "display_name": "Python 3 (ipykernel)",
   "language": "python",
   "name": "python3"
  },
  "language_info": {
   "codemirror_mode": {
    "name": "ipython",
    "version": 3
   },
   "file_extension": ".py",
   "mimetype": "text/x-python",
   "name": "python",
   "nbconvert_exporter": "python",
   "pygments_lexer": "ipython3",
   "version": "3.12.7"
  }
 },
 "nbformat": 4,
 "nbformat_minor": 5
}
