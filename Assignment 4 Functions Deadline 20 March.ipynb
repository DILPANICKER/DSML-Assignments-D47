{
 "cells": [
  {
   "cell_type": "markdown",
   "id": "0bacc84e-7602-46dc-a39c-65ee55ae47ca",
   "metadata": {},
   "source": [
    "## FUNCTIONS"
   ]
  },
  {
   "cell_type": "markdown",
   "id": "eda15470-363d-49c6-affc-def5fc1a02cf",
   "metadata": {},
   "source": [
    "## 1"
   ]
  },
  {
   "cell_type": "code",
   "execution_count": null,
   "id": "e4cf7db1-29f0-4403-830e-4da8745eb6d0",
   "metadata": {},
   "outputs": [],
   "source": [
    "# 1:=> What does the len() function do in Python? Write a code example using len() to find the length of a list."
   ]
  },
  {
   "cell_type": "code",
   "execution_count": 1,
   "id": "bbf7544e-f30e-4924-b4d3-27f15c80679a",
   "metadata": {},
   "outputs": [
    {
     "name": "stdout",
     "output_type": "stream",
     "text": [
      "Length of the list: 5\n"
     ]
    }
   ],
   "source": [
    "#The len() function in Python returns the number of items in an object. When applied to a list, it returns the number of elements in the list.\n",
    "\n",
    "my_list = [1, 2, 3, 4, 5]\n",
    "length = len(my_list)\n",
    "print(\"Length of the list:\", length) \n"
   ]
  },
  {
   "cell_type": "markdown",
   "id": "7908b8bf-b089-4364-837e-e729c4429b2e",
   "metadata": {},
   "source": [
    "## 2"
   ]
  },
  {
   "cell_type": "code",
   "execution_count": null,
   "id": "c6af297d-0eeb-49d1-a550-915f4951826e",
   "metadata": {},
   "outputs": [],
   "source": [
    "# 2 :=>\tWrite a Python function greet(name) that takes a person's name as input and prints \"Hello, [name]!\"."
   ]
  },
  {
   "cell_type": "code",
   "execution_count": 1,
   "id": "9d9bd386-22d4-4b64-aa9b-355a4dc25b0b",
   "metadata": {},
   "outputs": [
    {
     "name": "stdin",
     "output_type": "stream",
     "text": [
      "Enter a name:  Dileep\n"
     ]
    },
    {
     "name": "stdout",
     "output_type": "stream",
     "text": [
      "Hello, Dileep!\n"
     ]
    }
   ],
   "source": [
    "def greet(name):\n",
    "    print(f\"Hello, {name}!\")\n",
    "user_name = input(\"Enter a name: \")\n",
    "greet (user_name)\n"
   ]
  },
  {
   "cell_type": "markdown",
   "id": "afb0c665-da5e-4063-9bf3-048088df5861",
   "metadata": {},
   "source": [
    "## 3"
   ]
  },
  {
   "cell_type": "code",
   "execution_count": 23,
   "id": "c523d98c-cd13-4bcf-ae40-fc96601b6ba4",
   "metadata": {},
   "outputs": [],
   "source": [
    "# 3 :=> 3.\tWrite a Python function find_maximum(numbers) that takes a list of integers and returns the maximum value without using the \n",
    "# built-in max() function. Use a loop to iterate through the list and compare values."
   ]
  },
  {
   "cell_type": "code",
   "execution_count": 24,
   "id": "a3d5c1b3-750c-48a1-a6ce-430630079e26",
   "metadata": {},
   "outputs": [],
   "source": [
    "def find_maximum(numbers):\n",
    "    if not numbers:\n",
    "        return None  \n",
    "    maximum = numbers[0]  \n",
    "    for num in numbers:\n",
    "        if num > maximum:\n",
    "            maximum = num\n",
    "    return maximum\n"
   ]
  },
  {
   "cell_type": "code",
   "execution_count": 25,
   "id": "357ea34e-7f69-4a6b-8786-4024182fa259",
   "metadata": {},
   "outputs": [
    {
     "name": "stdout",
     "output_type": "stream",
     "text": [
      "Maximum value: 100\n"
     ]
    }
   ],
   "source": [
    "numbers = [3, 10,100,5,21,50]\n",
    "print(\"Maximum value:\", find_maximum(numbers))"
   ]
  },
  {
   "cell_type": "markdown",
   "id": "5936d9a7-0605-47dd-86f1-2f9bc39c6562",
   "metadata": {},
   "source": [
    "## 4 "
   ]
  },
  {
   "cell_type": "code",
   "execution_count": null,
   "id": "b82af0bd-d258-480e-a8f6-7f61f9ac2205",
   "metadata": {},
   "outputs": [],
   "source": [
    "# 4 :=>\tExplain the difference between local and global variables in a Python function. Write a program where a global variable and a \n",
    "#       local variable have the same name and show how Python differentiates between them."
   ]
  },
  {
   "cell_type": "code",
   "execution_count": 1,
   "id": "df3a46cd-b86f-4561-828a-1b3dc932f0bf",
   "metadata": {},
   "outputs": [
    {
     "name": "stdout",
     "output_type": "stream",
     "text": [
      "Local x: 20\n",
      "Global x: 10\n"
     ]
    }
   ],
   "source": [
    "# ANSWER : Global variables are defined outside of any function and can be accessed throughout the entire program.\n",
    "\n",
    "#          Local variables are defined inside a function and can only be accessed within that function. \n",
    "#          If a local variable has the same name as a global variable, the local variable takes precedence within the function.\n",
    "\n",
    "# Global variable\n",
    "x = 10\n",
    "\n",
    "def my_function():\n",
    "    x = 20\n",
    "    print(\"Local x:\", x)\n",
    "\n",
    "my_function()\n",
    "print(\"Global x:\", x)"
   ]
  },
  {
   "cell_type": "markdown",
   "id": "89219672-371e-4044-8e0a-74d66efcff9b",
   "metadata": {},
   "source": [
    "## 5"
   ]
  },
  {
   "cell_type": "code",
   "execution_count": 27,
   "id": "414c7f04-86a5-426b-8719-4c2ee1523243",
   "metadata": {},
   "outputs": [
    {
     "name": "stdout",
     "output_type": "stream",
     "text": [
      "Area with only length: 50\n",
      "Area with length and width: 30\n"
     ]
    }
   ],
   "source": [
    "# 5:=> Create a function calculate_area(length, width=5) that calculates the area of a rectangle. \n",
    "#      If only the length is provided, the function should assume the width is 5. Show how the function behaves when called with \n",
    "#      and without the width argument.\n",
    "\n",
    "\n",
    "def calculate_area(length, width=5):\n",
    "    return length * width\n",
    "\n",
    "# Scenario 1: Only length is provided\n",
    "area1 = calculate_area(10)\n",
    "print(\"Area with only length:\", area1)\n",
    "\n",
    "# Scenario 2: Both length and width are provided\n",
    "area2 = calculate_area(10, 3)\n",
    "print(\"Area with length and width:\", area2)"
   ]
  },
  {
   "cell_type": "code",
   "execution_count": null,
   "id": "dd5c8e83-e207-453d-b8ea-572c3deb6b1e",
   "metadata": {},
   "outputs": [],
   "source": []
  },
  {
   "cell_type": "code",
   "execution_count": null,
   "id": "6b598104-106d-44e2-9006-f539fd2475e7",
   "metadata": {},
   "outputs": [],
   "source": []
  },
  {
   "cell_type": "code",
   "execution_count": null,
   "id": "8eeafbd8-c7b9-4644-8b42-c7390e98a489",
   "metadata": {},
   "outputs": [],
   "source": []
  },
  {
   "cell_type": "code",
   "execution_count": null,
   "id": "4176326e-bf3d-45c9-ae78-74c35f348e1e",
   "metadata": {},
   "outputs": [],
   "source": []
  },
  {
   "cell_type": "code",
   "execution_count": null,
   "id": "da434f7b-6af3-4a39-8d2c-a88b3adb41df",
   "metadata": {},
   "outputs": [],
   "source": []
  }
 ],
 "metadata": {
  "kernelspec": {
   "display_name": "Python 3 (ipykernel)",
   "language": "python",
   "name": "python3"
  },
  "language_info": {
   "codemirror_mode": {
    "name": "ipython",
    "version": 3
   },
   "file_extension": ".py",
   "mimetype": "text/x-python",
   "name": "python",
   "nbconvert_exporter": "python",
   "pygments_lexer": "ipython3",
   "version": "3.12.7"
  }
 },
 "nbformat": 4,
 "nbformat_minor": 5
}
