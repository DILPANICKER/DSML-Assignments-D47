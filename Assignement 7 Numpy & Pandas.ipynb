{
 "cells": [
  {
   "cell_type": "markdown",
   "id": "e7e2fdd1-29e0-4277-af6a-f6bcffbd4c73",
   "metadata": {},
   "source": [
    "## Assignmet 7, NumPy and Pandas"
   ]
  },
  {
   "cell_type": "code",
   "execution_count": 1,
   "id": "2ab32e60-1b0e-4b8b-a129-994ccab043ce",
   "metadata": {},
   "outputs": [],
   "source": [
    "import numpy as np\n",
    "import pandas as pd"
   ]
  },
  {
   "cell_type": "markdown",
   "id": "6cf3c3be-dcb6-4876-ac66-2cf5309c1f37",
   "metadata": {},
   "source": [
    "## 1"
   ]
  },
  {
   "cell_type": "code",
   "execution_count": null,
   "id": "ea13fc3e-9c8b-4e97-aac5-b0dc94f8246c",
   "metadata": {},
   "outputs": [],
   "source": [
    "## Exercise 1:=> Create a numpy array containing the numbers from 1 to 10, and then reshape it to a 2x5 matrix."
   ]
  },
  {
   "cell_type": "code",
   "execution_count": 3,
   "id": "ffb6f4df-fe2c-4243-8b14-3edbbdad62fb",
   "metadata": {},
   "outputs": [
    {
     "name": "stdout",
     "output_type": "stream",
     "text": [
      "2x5 matrix:\n",
      " [[ 1  2  3  4  5]\n",
      " [ 6  7  8  9 10]]\n"
     ]
    }
   ],
   "source": [
    "arr1 = np.arange(1, 11)\n",
    "reshaped_arr = arr1.reshape(2, 5)\n",
    "print(\"2x5 matrix:\\n\", reshaped_arr)"
   ]
  },
  {
   "cell_type": "markdown",
   "id": "33c1367e-379e-46d5-9a15-4f2fd39e541f",
   "metadata": {},
   "source": [
    "## 2 "
   ]
  },
  {
   "cell_type": "code",
   "execution_count": null,
   "id": "2b2d0027-a214-4adc-93cb-609f3302b341",
   "metadata": {},
   "outputs": [],
   "source": [
    "# Exercise 2:=>Create a numpy array containing the numbers from 1 to 20, and then extract the elements between the 5th and 15th index."
   ]
  },
  {
   "cell_type": "code",
   "execution_count": 11,
   "id": "ea916e24-3abc-4347-8a92-acf817d28519",
   "metadata": {},
   "outputs": [
    {
     "name": "stdout",
     "output_type": "stream",
     "text": [
      "Extracted elements (5th to 15th index): [ 6  7  8  9 10 11 12 13 14 15 16]\n"
     ]
    }
   ],
   "source": [
    "arr2 = np.arange(1, 21)\n",
    "extracted = arr2[5:16]  \n",
    "print(\"Extracted elements (5th to 15th index):\", extracted)"
   ]
  },
  {
   "cell_type": "markdown",
   "id": "2959536e-6120-4df8-9af3-c95b3f89ea06",
   "metadata": {},
   "source": [
    "## 3"
   ]
  },
  {
   "cell_type": "code",
   "execution_count": null,
   "id": "c1c188d9-ffe9-4947-aca6-571a50bcfd52",
   "metadata": {},
   "outputs": [],
   "source": [
    "#  Exercise 3:=> Create a Pandas series with the following data: {'apples': 3, 'bananas': 2, 'oranges': 1}. \n",
    "#                Then, add a new item to the series with the key 'pears' and the value 4.\n"
   ]
  },
  {
   "cell_type": "code",
   "execution_count": 19,
   "id": "c630a298-b58c-4a90-9c85-c009bd3d157c",
   "metadata": {},
   "outputs": [
    {
     "name": "stdout",
     "output_type": "stream",
     "text": [
      "Updated Series:\n",
      " apples     3\n",
      "bananas    2\n",
      "oranges    1\n",
      "pears      4\n",
      "dtype: int64\n"
     ]
    }
   ],
   "source": [
    "fruits = pd.Series({'apples': 3, 'bananas': 2, 'oranges': 1})\n",
    "fruits['pears'] = 4\n",
    "print(\"Updated Series:\\n\", fruits)"
   ]
  },
  {
   "cell_type": "markdown",
   "id": "9736bcda-ae3d-4272-8155-5402e6bde7c7",
   "metadata": {},
   "source": [
    "## 4"
   ]
  },
  {
   "cell_type": "code",
   "execution_count": null,
   "id": "d3dbc215-e9f9-47a8-ab59-1e6d2c471914",
   "metadata": {},
   "outputs": [],
   "source": [
    "# Exercise 4:=> Create a dataframe with the following columns: name, age, and gender. The dataframe should have 10 rows of data.\n"
   ]
  },
  {
   "cell_type": "code",
   "execution_count": 20,
   "id": "4e370681-856c-4bf1-ad39-d76dd3f969f1",
   "metadata": {},
   "outputs": [
    {
     "name": "stdout",
     "output_type": "stream",
     "text": [
      "DataFrame:\n",
      "       name  age gender\n",
      "0    Shyna   25      F\n",
      "1    Jerry   30      M\n",
      "2      Ram   22      M\n",
      "3    David   35      M\n",
      "4     Eliz   28      F\n",
      "5  Francis   40      M\n",
      "6    Grazy   27      F\n",
      "7   Fatima   31      F\n",
      "8     Iype   29      M\n",
      "9     Janu   33      F\n"
     ]
    }
   ],
   "source": [
    "data = {\n",
    "    'name': ['Shyna', 'Jerry', 'Ram', 'David', 'Eliz', 'Francis', 'Grazy', 'Fatima', 'Iype', 'Janu'],\n",
    "    'age': [25, 30, 22, 35, 28, 40, 27, 31, 29, 33],\n",
    "    'gender': ['F', 'M', 'M', 'M', 'F', 'M', 'F', 'F', 'M', 'F']\n",
    "}\n",
    "df = pd.DataFrame(data)\n",
    "print(\"DataFrame:\\n\", df)\n"
   ]
  },
  {
   "cell_type": "markdown",
   "id": "98281695-26ea-47f9-a04d-1cc415fdbcad",
   "metadata": {},
   "source": [
    "## 5"
   ]
  },
  {
   "cell_type": "code",
   "execution_count": null,
   "id": "18eeb74d-9893-43fb-9c9c-66f48ef3a8eb",
   "metadata": {},
   "outputs": [],
   "source": [
    "# Exercise 5:=> Add a new column to the data frame created in the question above, called occupation. \n",
    "#               The values for this column should be Programmer, Manager, and Analyst, corresponding to the rows in the dataframe.\n"
   ]
  },
  {
   "cell_type": "code",
   "execution_count": 23,
   "id": "81889234-925e-433c-8f85-27fd93b3a549",
   "metadata": {},
   "outputs": [
    {
     "name": "stdout",
     "output_type": "stream",
     "text": [
      "DataFrame with Occupation included:\n",
      "       name  age gender  occupation\n",
      "0    Shyna   25      F  Programmer\n",
      "1    Jerry   30      M     Manager\n",
      "2      Ram   22      M     Analyst\n",
      "3    David   35      M  Programmer\n",
      "4     Eliz   28      F     Manager\n",
      "5  Francis   40      M     Analyst\n",
      "6    Grazy   27      F  Programmer\n",
      "7   Fatima   31      F     Manager\n",
      "8     Iype   29      M     Analyst\n",
      "9     Janu   33      F  Programmer\n"
     ]
    }
   ],
   "source": [
    "occupations = ['Programmer', 'Manager', 'Analyst', 'Programmer', 'Manager', \n",
    "               'Analyst', 'Programmer', 'Manager', 'Analyst', 'Programmer']\n",
    "df['occupation'] = occupations\n",
    "print(\"DataFrame with Occupation included:\\n\", df)\n"
   ]
  },
  {
   "cell_type": "markdown",
   "id": "b78c2c5d-f474-4784-9afa-9d17a1d1e256",
   "metadata": {},
   "source": [
    "## 6"
   ]
  },
  {
   "cell_type": "code",
   "execution_count": null,
   "id": "17a64022-1308-4d73-8716-22b1d4515be8",
   "metadata": {},
   "outputs": [],
   "source": [
    "# Exercise 6:=> Select the rows of the dataframe where the age is greater than or equal to 30.\n"
   ]
  },
  {
   "cell_type": "code",
   "execution_count": 24,
   "id": "5b5241a4-d18b-4996-bd95-6d08a8fdfcc4",
   "metadata": {},
   "outputs": [
    {
     "name": "stdout",
     "output_type": "stream",
     "text": [
      "Rows where age >= 30:\n",
      "       name  age gender  occupation\n",
      "1    Jerry   30      M     Manager\n",
      "3    David   35      M  Programmer\n",
      "5  Francis   40      M     Analyst\n",
      "7   Fatima   31      F     Manager\n",
      "9     Janu   33      F  Programmer\n"
     ]
    }
   ],
   "source": [
    "#Select rows where age >= 30\n",
    "\n",
    "age_filtered_df = df[df['age'] >= 30]\n",
    "print(\"Rows where age >= 30:\\n\", age_filtered_df)\n"
   ]
  },
  {
   "cell_type": "markdown",
   "id": "441c3fb8-d669-4717-8b83-104922cf6b7e",
   "metadata": {},
   "source": [
    "## 7"
   ]
  },
  {
   "cell_type": "code",
   "execution_count": null,
   "id": "3d053be9-e29f-4106-8f70-82cdd7d766c8",
   "metadata": {},
   "outputs": [],
   "source": [
    "# Exercise 7: Convert this dataframe to a csv file and read that csv file, finally display the contents."
   ]
  },
  {
   "cell_type": "code",
   "execution_count": 26,
   "id": "0b73999a-894b-4ed5-8307-3f7d31a7cac4",
   "metadata": {},
   "outputs": [
    {
     "name": "stdout",
     "output_type": "stream",
     "text": [
      "Contents of the CSV file:\n",
      "       name  age gender  occupation\n",
      "0    Shyna   25      F  Programmer\n",
      "1    Jerry   30      M     Manager\n",
      "2      Ram   22      M     Analyst\n",
      "3    David   35      M  Programmer\n",
      "4     Eliz   28      F     Manager\n",
      "5  Francis   40      M     Analyst\n",
      "6    Grazy   27      F  Programmer\n",
      "7   Fatima   31      F     Manager\n",
      "8     Iype   29      M     Analyst\n",
      "9     Janu   33      F  Programmer\n"
     ]
    }
   ],
   "source": [
    "# Convert DataFrame to CSV and read it back\n",
    "csv_file = 'people.csv'\n",
    "df.to_csv(csv_file, index=False)\n",
    "\n",
    "# Read the CSV file\n",
    "read_df = pd.read_csv(csv_file)\n",
    "print(\"Contents of the CSV file:\\n\", read_df)\n"
   ]
  },
  {
   "cell_type": "code",
   "execution_count": null,
   "id": "74508ebe-8489-49de-b7b1-90b00342b0f9",
   "metadata": {},
   "outputs": [],
   "source": []
  },
  {
   "cell_type": "code",
   "execution_count": null,
   "id": "d1b073ea-747f-49e0-877f-2f8f83de4390",
   "metadata": {},
   "outputs": [],
   "source": []
  },
  {
   "cell_type": "code",
   "execution_count": null,
   "id": "301e4174-baf6-4ed0-b3b9-841bac39862c",
   "metadata": {},
   "outputs": [],
   "source": []
  },
  {
   "cell_type": "code",
   "execution_count": null,
   "id": "5937b008-cd1a-48c8-b3e6-06eb7a516510",
   "metadata": {},
   "outputs": [],
   "source": []
  },
  {
   "cell_type": "code",
   "execution_count": null,
   "id": "a3df83d4-e258-468b-a2ab-d01254923d1e",
   "metadata": {},
   "outputs": [],
   "source": []
  },
  {
   "cell_type": "code",
   "execution_count": null,
   "id": "8c635fe9-9e18-4be3-9497-7f2b9ec0e3c7",
   "metadata": {},
   "outputs": [],
   "source": []
  },
  {
   "cell_type": "code",
   "execution_count": null,
   "id": "0820c593-be92-40ea-9ed6-c813a66b9967",
   "metadata": {},
   "outputs": [],
   "source": []
  },
  {
   "cell_type": "code",
   "execution_count": null,
   "id": "7a1cf0f0-02ca-4ee1-a55f-78b7850a3584",
   "metadata": {},
   "outputs": [],
   "source": []
  },
  {
   "cell_type": "code",
   "execution_count": null,
   "id": "e586d1ff-22dd-4b1e-bafa-60a28dfbe475",
   "metadata": {},
   "outputs": [],
   "source": []
  },
  {
   "cell_type": "code",
   "execution_count": null,
   "id": "e2e22070-b6b5-4554-b474-25826005433e",
   "metadata": {},
   "outputs": [],
   "source": []
  },
  {
   "cell_type": "code",
   "execution_count": null,
   "id": "0808906f-4548-46d8-b98a-835b501d9c07",
   "metadata": {},
   "outputs": [],
   "source": []
  },
  {
   "cell_type": "code",
   "execution_count": null,
   "id": "8b581ed6-9c1e-49ff-91b6-5310f815a40c",
   "metadata": {},
   "outputs": [],
   "source": []
  },
  {
   "cell_type": "code",
   "execution_count": null,
   "id": "d6133d5d-8b69-4fee-a7d9-a050f0c0cc1e",
   "metadata": {},
   "outputs": [],
   "source": []
  },
  {
   "cell_type": "code",
   "execution_count": null,
   "id": "9a8b9f64-50cf-42e3-825f-803a44023900",
   "metadata": {},
   "outputs": [],
   "source": []
  },
  {
   "cell_type": "code",
   "execution_count": null,
   "id": "581abbad-7dad-41dc-99ed-bcf55c799f65",
   "metadata": {},
   "outputs": [],
   "source": []
  },
  {
   "cell_type": "code",
   "execution_count": null,
   "id": "6a4e09f2-7bc7-48ec-b333-6e99264dbf5a",
   "metadata": {},
   "outputs": [],
   "source": []
  }
 ],
 "metadata": {
  "kernelspec": {
   "display_name": "Python 3 (ipykernel)",
   "language": "python",
   "name": "python3"
  },
  "language_info": {
   "codemirror_mode": {
    "name": "ipython",
    "version": 3
   },
   "file_extension": ".py",
   "mimetype": "text/x-python",
   "name": "python",
   "nbconvert_exporter": "python",
   "pygments_lexer": "ipython3",
   "version": "3.12.7"
  }
 },
 "nbformat": 4,
 "nbformat_minor": 5
}
