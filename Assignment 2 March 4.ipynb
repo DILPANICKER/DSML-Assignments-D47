{
 "cells": [
  {
   "cell_type": "markdown",
   "id": "3ae92e17-bf3b-429b-b36f-24f615e49d09",
   "metadata": {},
   "source": [
    "## Assignment 2 /Data Structures in Python/ Deadline 03 March /2025"
   ]
  },
  {
   "cell_type": "markdown",
   "id": "d07c4f70-c7ea-4031-b88d-5cdc0439008d",
   "metadata": {},
   "source": [
    "### List Exercise "
   ]
  },
  {
   "cell_type": "markdown",
   "id": "04293844-de2b-4bc5-a974-03efb78246eb",
   "metadata": {},
   "source": [
    "## 1"
   ]
  },
  {
   "cell_type": "code",
   "execution_count": null,
   "id": "d545f07b-0e83-4e03-ba35-39286a590d30",
   "metadata": {},
   "outputs": [],
   "source": [
    "#  Q1 :=> Create a list of 5 random numbers and print the list. "
   ]
  },
  {
   "cell_type": "code",
   "execution_count": 21,
   "id": "0fbf7221-c075-4bac-97a6-d642c8f7f9e3",
   "metadata": {},
   "outputs": [
    {
     "name": "stdout",
     "output_type": "stream",
     "text": [
      "List of random numbers:  [4, 61, 8, 56, 23]\n"
     ]
    }
   ],
   "source": [
    "import random\n",
    "random_numbers = [random.randint(1, 100) for _ in range(5)]\n",
    "print(\"List of random numbers: \", random_numbers)"
   ]
  },
  {
   "cell_type": "markdown",
   "id": "585cdba4-f07a-4414-92b1-f57ae18f9b6c",
   "metadata": {},
   "source": [
    "## 2"
   ]
  },
  {
   "cell_type": "code",
   "execution_count": 19,
   "id": "396218e3-1f49-41e4-aff0-fde1c2e31b88",
   "metadata": {},
   "outputs": [],
   "source": [
    "# Q2 :=> Insert 3 new values to the list and print the updated list."
   ]
  },
  {
   "cell_type": "code",
   "execution_count": 22,
   "id": "e5e887b0-6f08-40fe-93ba-f43780107bd3",
   "metadata": {},
   "outputs": [
    {
     "name": "stdout",
     "output_type": "stream",
     "text": [
      "Updated List: [4, 61, 8, 56, 23, 1, 2, 3]\n"
     ]
    }
   ],
   "source": [
    "random_numbers.extend([1, 2, 3])\n",
    "print(\"Updated List:\", random_numbers)"
   ]
  },
  {
   "cell_type": "markdown",
   "id": "6dff2a1d-1057-416b-8b01-ce9141b3a671",
   "metadata": {},
   "source": [
    "## 3"
   ]
  },
  {
   "cell_type": "code",
   "execution_count": 12,
   "id": "40916b37-9086-4e35-a69f-518aaec84793",
   "metadata": {},
   "outputs": [],
   "source": [
    "# Q3:=> Try to use a for loop to print each element in the list. "
   ]
  },
  {
   "cell_type": "code",
   "execution_count": 23,
   "id": "4f39e754-185b-4207-9e91-120744b42412",
   "metadata": {},
   "outputs": [
    {
     "name": "stdout",
     "output_type": "stream",
     "text": [
      "4\n",
      "61\n",
      "8\n",
      "56\n",
      "23\n",
      "1\n",
      "2\n",
      "3\n"
     ]
    }
   ],
   "source": [
    "for num in random_numbers:\n",
    "    print(num)"
   ]
  },
  {
   "cell_type": "markdown",
   "id": "c894ca8c-5571-4f18-ac26-605ba0e0fb3d",
   "metadata": {},
   "source": [
    "### Dictionary Exercise "
   ]
  },
  {
   "cell_type": "markdown",
   "id": "40623335-6990-47af-8003-fc71dcd6bfd1",
   "metadata": {},
   "source": [
    "## 1\n"
   ]
  },
  {
   "cell_type": "code",
   "execution_count": 24,
   "id": "3da87856-d795-42b4-8e92-6e2a2bae9fbb",
   "metadata": {},
   "outputs": [],
   "source": [
    "# Q1 :=> Create a dictionary with keys 'name', 'age', and 'address' and values 'John', 25, and 'New York' respectively. "
   ]
  },
  {
   "cell_type": "code",
   "execution_count": 25,
   "id": "633e2847-75eb-489d-b713-627d71a26b65",
   "metadata": {},
   "outputs": [
    {
     "name": "stdout",
     "output_type": "stream",
     "text": [
      "{'name': 'John', 'age': 25, 'address': 'New York'}\n"
     ]
    }
   ],
   "source": [
    "Person = {'name': 'John', 'age': 25, 'address': 'New York'}\n",
    "print(Person)"
   ]
  },
  {
   "cell_type": "markdown",
   "id": "1361a08a-3edc-4d93-9007-3439090e2a3f",
   "metadata": {},
   "source": [
    "## 2"
   ]
  },
  {
   "cell_type": "code",
   "execution_count": null,
   "id": "b7b75fad-0f9c-4c31-b3c9-2583339eade7",
   "metadata": {},
   "outputs": [],
   "source": [
    "# Q2:=> Add a new key-value pair to the dictionary created in Q1 with key 'phone' and value '1234567890'"
   ]
  },
  {
   "cell_type": "code",
   "execution_count": 26,
   "id": "9b310f6e-843d-47ff-9af2-97ec6a98ac20",
   "metadata": {},
   "outputs": [
    {
     "name": "stdout",
     "output_type": "stream",
     "text": [
      "Updated Dictionary: {'name': 'John', 'age': 25, 'address': 'New York', 'phone': 1234567890}\n"
     ]
    }
   ],
   "source": [
    "Person['phone']=1234567890\n",
    "print(\"Updated Dictionary:\",Person)"
   ]
  },
  {
   "cell_type": "markdown",
   "id": "0e0fdfa7-8570-4a85-9fd2-5e6ea7a8e73d",
   "metadata": {},
   "source": [
    "### Set Exercise "
   ]
  },
  {
   "cell_type": "markdown",
   "id": "fcc42ca4-01a7-4d74-b817-9317954f8528",
   "metadata": {},
   "source": [
    "## 1"
   ]
  },
  {
   "cell_type": "code",
   "execution_count": null,
   "id": "55854084-d3cb-43c8-9fc0-7730c857c500",
   "metadata": {},
   "outputs": [],
   "source": [
    "# Q1:=> Create a set with values 1, 2, 3, 4, and 5. "
   ]
  },
  {
   "cell_type": "code",
   "execution_count": 28,
   "id": "f4c73874-0a76-4f78-a13b-d1f1aef08a79",
   "metadata": {},
   "outputs": [
    {
     "name": "stdout",
     "output_type": "stream",
     "text": [
      "{1, 2, 3, 4, 5}\n"
     ]
    }
   ],
   "source": [
    "my_set = {1,2,3,4,5}\n",
    "print(my_set)"
   ]
  },
  {
   "cell_type": "markdown",
   "id": "f18f2bd4-712d-44de-ace9-79ab4175fad3",
   "metadata": {},
   "source": [
    "## 2"
   ]
  },
  {
   "cell_type": "code",
   "execution_count": null,
   "id": "09962ffb-225d-4618-86f4-9feb2782deb3",
   "metadata": {},
   "outputs": [],
   "source": [
    "# Q2:=> Add the value 6 to the set created in Q1. "
   ]
  },
  {
   "cell_type": "code",
   "execution_count": 29,
   "id": "a4499b47-ddc1-4b24-9974-0c5a2b8e1d67",
   "metadata": {},
   "outputs": [
    {
     "name": "stdout",
     "output_type": "stream",
     "text": [
      "Updated set: {1, 2, 3, 4, 5, 6}\n"
     ]
    }
   ],
   "source": [
    "my_set.add(6)\n",
    "print(\"Updated set:\", my_set)"
   ]
  },
  {
   "cell_type": "markdown",
   "id": "14253370-fa0d-4dce-b974-93ce3b243991",
   "metadata": {},
   "source": [
    "## 3"
   ]
  },
  {
   "cell_type": "code",
   "execution_count": null,
   "id": "a5a3c510-43ac-4759-8ad0-3c62e4cd6552",
   "metadata": {},
   "outputs": [],
   "source": [
    "# Q3:=> Remove the value 3 from the set created in Q1"
   ]
  },
  {
   "cell_type": "code",
   "execution_count": 42,
   "id": "684cf89b-8f85-4f6f-8dcd-e15cad7f43b4",
   "metadata": {},
   "outputs": [
    {
     "name": "stdout",
     "output_type": "stream",
     "text": [
      "{1, 2, 4, 5, 6}\n"
     ]
    }
   ],
   "source": [
    "my_set.discard(3)\n",
    "print(my_set)"
   ]
  },
  {
   "cell_type": "code",
   "execution_count": null,
   "id": "97d9bebc-7dab-4755-b2cd-2462bdfb77a4",
   "metadata": {},
   "outputs": [],
   "source": []
  },
  {
   "cell_type": "markdown",
   "id": "032f5a6d-7074-424b-a7df-d2f655f3b251",
   "metadata": {},
   "source": [
    "### Tuple Exercise "
   ]
  },
  {
   "cell_type": "markdown",
   "id": "41f3d7a4-ee36-4d12-b018-2e084410e7df",
   "metadata": {},
   "source": [
    "## 1"
   ]
  },
  {
   "cell_type": "code",
   "execution_count": 32,
   "id": "f1597845-2c6f-46e7-964f-9e61d16994d4",
   "metadata": {},
   "outputs": [],
   "source": [
    "# Q1:=> Create a tuple with values 1, 2, 3, and 4 "
   ]
  },
  {
   "cell_type": "code",
   "execution_count": 34,
   "id": "07778f12-86f4-4401-8324-9e2676ba9f94",
   "metadata": {},
   "outputs": [
    {
     "name": "stdout",
     "output_type": "stream",
     "text": [
      "my_tuple:  (1, 2, 3, 4)\n"
     ]
    }
   ],
   "source": [
    "my_tuple = (1,2,3,4)\n",
    "print(\"my_tuple: \", my_tuple)"
   ]
  },
  {
   "cell_type": "markdown",
   "id": "d7239967-2729-4518-958e-dacccbea7ffe",
   "metadata": {},
   "source": [
    "## 2"
   ]
  },
  {
   "cell_type": "code",
   "execution_count": null,
   "id": "34b51837-5133-47bb-b534-ea572c234f1f",
   "metadata": {},
   "outputs": [],
   "source": [
    "# Q2:=> Print the length of the tuple created in Q1."
   ]
  },
  {
   "cell_type": "code",
   "execution_count": 45,
   "id": "d75a8049-ce67-4cda-aa65-dd080dd8d191",
   "metadata": {},
   "outputs": [
    {
     "name": "stdout",
     "output_type": "stream",
     "text": [
      "length of the tuple:  4\n"
     ]
    }
   ],
   "source": [
    "print(\"length of the tuple: \", len(my_tuple))"
   ]
  },
  {
   "cell_type": "code",
   "execution_count": null,
   "id": "62e7f51a-e3b0-4743-bb9e-d95f570c9bab",
   "metadata": {},
   "outputs": [],
   "source": []
  }
 ],
 "metadata": {
  "kernelspec": {
   "display_name": "Python 3 (ipykernel)",
   "language": "python",
   "name": "python3"
  },
  "language_info": {
   "codemirror_mode": {
    "name": "ipython",
    "version": 3
   },
   "file_extension": ".py",
   "mimetype": "text/x-python",
   "name": "python",
   "nbconvert_exporter": "python",
   "pygments_lexer": "ipython3",
   "version": "3.12.7"
  }
 },
 "nbformat": 4,
 "nbformat_minor": 5
}
