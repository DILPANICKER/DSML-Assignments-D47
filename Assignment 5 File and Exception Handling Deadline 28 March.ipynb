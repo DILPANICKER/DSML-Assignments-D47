{
 "cells": [
  {
   "cell_type": "markdown",
   "id": "7e6a1fdf-81e8-4c6f-96ad-66d2c643b45b",
   "metadata": {},
   "source": [
    "## Assignment 5 / File and Exeprion Handling"
   ]
  },
  {
   "cell_type": "markdown",
   "id": "cc3df2c1-659a-4515-892f-475906a81229",
   "metadata": {},
   "source": [
    "## 1"
   ]
  },
  {
   "cell_type": "code",
   "execution_count": null,
   "id": "f8e801b4-4138-46f2-a73d-2d9c2d706268",
   "metadata": {},
   "outputs": [],
   "source": [
    "# 1 Write a Python program to read a file and display its contents"
   ]
  },
  {
   "cell_type": "code",
   "execution_count": 5,
   "id": "a081fbce-297b-4b7b-8611-0fb3b474b24e",
   "metadata": {},
   "outputs": [
    {
     "name": "stdout",
     "output_type": "stream",
     "text": [
      "Company ABC\n",
      "\n",
      "Business: Trading of Electronics\n",
      "History : Since 1973\n",
      "Major Brands: Sony, Bose, Samsung, G-Shock\n",
      "\n",
      "Managers\n",
      "General Manager : Sam\n",
      "Marketing Manager : Tom\n",
      "IT Manager : Jos\n",
      "Accounts Manager : Fahad\n"
     ]
    }
   ],
   "source": [
    "file = open(\"C:\\\\Users\\\\DILEEP\\\\Desktop\\\\Python Assignment\\\\Company ABC.txt\", \"r\")  \n",
    "content = file.read()  \n",
    "print(content)  \n",
    "file.close()  \n"
   ]
  },
  {
   "cell_type": "markdown",
   "id": "4fce816e-e4b6-49b2-aa7c-8dbf00d5a3fa",
   "metadata": {},
   "source": [
    "## 2"
   ]
  },
  {
   "cell_type": "code",
   "execution_count": null,
   "id": "672a2fc2-3e80-43e8-8b61-dff591fc0548",
   "metadata": {},
   "outputs": [],
   "source": [
    "#Exercise 2: Write a Python program to copy the contents of one file to another file\n"
   ]
  },
  {
   "cell_type": "code",
   "execution_count": 24,
   "id": "47772a64-4e08-4b40-af26-8a73e806ca81",
   "metadata": {},
   "outputs": [
    {
     "name": "stdout",
     "output_type": "stream",
     "text": [
      "File copied successfully.\n"
     ]
    }
   ],
   "source": [
    "source = open(\"C:\\\\Users\\\\DILEEP\\\\Desktop\\\\Python Assignment\\\\Company ABC.txt\", \"r\")\n",
    "destination = open(\"Copied Company ABC.txt\", \"w\")\n",
    "destination.write(source.read())\n",
    "source.close()\n",
    "destination.close()\n",
    "print(\"File copied successfully.\")\n"
   ]
  },
  {
   "cell_type": "markdown",
   "id": "db70dc4e-2264-41e4-994f-0981f9597500",
   "metadata": {},
   "source": [
    "## 3"
   ]
  },
  {
   "cell_type": "code",
   "execution_count": 12,
   "id": "ee51bb90-1cf5-431e-82fc-1f0e6373d1ab",
   "metadata": {},
   "outputs": [],
   "source": [
    "## Exercise 3: Write a Python program to read the content of a file and count the total number of words in that file.\n"
   ]
  },
  {
   "cell_type": "code",
   "execution_count": 20,
   "id": "c83973ee-8072-40d1-b024-7c85b02308df",
   "metadata": {},
   "outputs": [
    {
     "name": "stdout",
     "output_type": "stream",
     "text": [
      "Total words: 33\n"
     ]
    }
   ],
   "source": [
    "file = open(\"C:\\\\Users\\\\DILEEP\\\\Desktop\\\\Python Assignment\\\\Company ABC.txt\", \"r\")\n",
    "content = file.read()\n",
    "words = content.split()\n",
    "print(\"Total words:\", len(words))\n",
    "file.close()"
   ]
  },
  {
   "cell_type": "markdown",
   "id": "0fb4a302-9eec-42af-b853-ad362b61b137",
   "metadata": {},
   "source": [
    "## 4"
   ]
  },
  {
   "cell_type": "code",
   "execution_count": 17,
   "id": "67445cf1-4c8d-47b0-ac5e-659a4ab59611",
   "metadata": {},
   "outputs": [],
   "source": [
    "# Exercise 4: Write a Python program that prompts the user to input a string and converts it to an integer. \n",
    "# use try-except blocks to handle any exceptions that might occur\n"
   ]
  },
  {
   "cell_type": "code",
   "execution_count": 3,
   "id": "717d5223-b740-423d-b003-37beb4e31d12",
   "metadata": {},
   "outputs": [
    {
     "name": "stdin",
     "output_type": "stream",
     "text": [
      "Enter an integer:  100\n"
     ]
    },
    {
     "name": "stdout",
     "output_type": "stream",
     "text": [
      "You entered: 100\n"
     ]
    }
   ],
   "source": [
    "try:\n",
    "    user_input = input(\"Enter an integer: \")\n",
    "    number = int(user_input)\n",
    "    print(\"You entered:\", number)\n",
    "except ValueError:\n",
    "    print(\"Invalid input. Please enter a valid integer.\")\n"
   ]
  },
  {
   "cell_type": "code",
   "execution_count": null,
   "id": "fc2a22e6-6c65-4ff4-879a-104a6cfb32fe",
   "metadata": {},
   "outputs": [],
   "source": []
  },
  {
   "cell_type": "markdown",
   "id": "41f3518e-9635-4237-b276-966d92975efe",
   "metadata": {},
   "source": [
    "## 5"
   ]
  },
  {
   "cell_type": "code",
   "execution_count": null,
   "id": "12bfcc5d-b6ec-4ad6-9280-0e79ccaa9d06",
   "metadata": {},
   "outputs": [],
   "source": [
    "# Exercise 5: Write a Python program that prompts the user to input a list of integers and raises an exception if any of the integers \n",
    "# in the list are negative.\n",
    "\n"
   ]
  },
  {
   "cell_type": "code",
   "execution_count": 1,
   "id": "c13f7ee8-f985-4683-ad22-95b9099c4d21",
   "metadata": {},
   "outputs": [
    {
     "name": "stdin",
     "output_type": "stream",
     "text": [
      "Enter a list of integers separated by space:  45 78 4 98 67 \n"
     ]
    },
    {
     "name": "stdout",
     "output_type": "stream",
     "text": [
      "Valid list: [45, 78, 4, 98, 67]\n"
     ]
    }
   ],
   "source": [
    "try:\n",
    "    numbers = list(map(int, input(\"Enter a list of integers separated by space: \").split()))\n",
    "    if any(n < 0 for n in numbers):\n",
    "        raise ValueError(\"Negative numbers are not allowed.\")\n",
    "    print(\"Valid list:\", numbers)\n",
    "except ValueError as e:\n",
    "    print(\"Error:\", e)\n"
   ]
  },
  {
   "cell_type": "code",
   "execution_count": null,
   "id": "0ddf8231-e00c-42a0-a9ca-41f5dedd5115",
   "metadata": {},
   "outputs": [],
   "source": []
  },
  {
   "cell_type": "markdown",
   "id": "a074776c-02af-48f9-98c2-37dc9a5d4524",
   "metadata": {},
   "source": [
    "## 6"
   ]
  },
  {
   "cell_type": "code",
   "execution_count": null,
   "id": "25ad3225-6d0c-4ca8-87e6-e7c8389046e7",
   "metadata": {},
   "outputs": [],
   "source": [
    "# Exercise 6: Write a Python program that prompts the user to input a list of integers and computes the average of those integers. \n",
    "# Use try-except blocks to handle any exceptions that might occur.use the finally clause to print a message indicating that the progra\n",
    "# has finished running.\n",
    "\n"
   ]
  },
  {
   "cell_type": "code",
   "execution_count": 7,
   "id": "f0c47ff4-cf2c-433b-b7de-fa7b3eedcee8",
   "metadata": {},
   "outputs": [
    {
     "name": "stdin",
     "output_type": "stream",
     "text": [
      "Enter a list of integers separated by space:  24 36 28 3 990\n"
     ]
    },
    {
     "name": "stdout",
     "output_type": "stream",
     "text": [
      "Average: 216.2\n",
      "Program has finished running.\n"
     ]
    }
   ],
   "source": [
    "try:\n",
    "    numbers = list(map(int, input(\"Enter a list of integers separated by space: \").split()))\n",
    "    average = sum(numbers) / len(numbers)\n",
    "    print(\"Average:\", average)\n",
    "except ZeroDivisionError:\n",
    "    print(\"Cannot compute average of an empty list.\")\n",
    "except ValueError:\n",
    "    print(\"Invalid input. Please enter integers only.\")\n",
    "finally:\n",
    "    print(\"Program has finished running.\")"
   ]
  },
  {
   "cell_type": "code",
   "execution_count": null,
   "id": "b68b30c7-a428-4463-8ed8-87608e9aa990",
   "metadata": {},
   "outputs": [],
   "source": []
  },
  {
   "cell_type": "markdown",
   "id": "61f227ff-54ce-4b0a-9cc6-e9179aa6c954",
   "metadata": {},
   "source": [
    "## 7"
   ]
  },
  {
   "cell_type": "code",
   "execution_count": null,
   "id": "84846ac1-704b-404c-b29b-b9dc3c040d93",
   "metadata": {},
   "outputs": [],
   "source": [
    "# Write a Python program that prompts the user to input a filename and writes a string to that file.\n",
    "# Use try-except blocks to handle any exceptions that might occur and print a welcome message if there is no exception occurred.\n",
    "\n"
   ]
  },
  {
   "cell_type": "code",
   "execution_count": 13,
   "id": "17cbfd9d-5a78-4bcb-a683-d7a110250951",
   "metadata": {},
   "outputs": [
    {
     "name": "stdin",
     "output_type": "stream",
     "text": [
      "Enter filename:  Budget.txt\n",
      "Enter content to write:  Media mix - Indoor, Outdoor, Digital\n"
     ]
    },
    {
     "name": "stdout",
     "output_type": "stream",
     "text": [
      "File written successfully. Welcome!\n"
     ]
    }
   ],
   "source": [
    "try:\n",
    "    filename = input(\"Enter filename: \")\n",
    "    content = input(\"Enter content to write: \")\n",
    "    with open(filename, \"w\") as file:\n",
    "        file.write(content)\n",
    "    print(\"File written successfully. Welcome!\")\n",
    "except Exception as e:\n",
    "    print(\"An error occurred:\", e)\n"
   ]
  },
  {
   "cell_type": "code",
   "execution_count": null,
   "id": "039c96cb-5f8c-485e-9a81-ab26ddec5244",
   "metadata": {},
   "outputs": [],
   "source": []
  }
 ],
 "metadata": {
  "kernelspec": {
   "display_name": "Python 3 (ipykernel)",
   "language": "python",
   "name": "python3"
  },
  "language_info": {
   "codemirror_mode": {
    "name": "ipython",
    "version": 3
   },
   "file_extension": ".py",
   "mimetype": "text/x-python",
   "name": "python",
   "nbconvert_exporter": "python",
   "pygments_lexer": "ipython3",
   "version": "3.12.7"
  }
 },
 "nbformat": 4,
 "nbformat_minor": 5
}
