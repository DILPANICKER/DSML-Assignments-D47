{
 "cells": [
  {
   "cell_type": "markdown",
   "id": "fb4c1dfc-d527-472e-a83e-51905b6cb0dc",
   "metadata": {},
   "source": [
    "## 1_ Assignment Python Fundamentals / 24 Feb 2025"
   ]
  },
  {
   "cell_type": "markdown",
   "id": "1f29d1df-49e2-4ec8-b05c-76f87a8a5ceb",
   "metadata": {},
   "source": [
    "## 1"
   ]
  },
  {
   "cell_type": "code",
   "execution_count": null,
   "id": "e4c7d97e-786d-480c-a002-92bb3bd62005",
   "metadata": {},
   "outputs": [],
   "source": [
    "#  Exercise 1 :=>Write Python code that prints your name, student number and email address. An example runs of the program: Bob ST1001 bob@gmail.com "
   ]
  },
  {
   "cell_type": "code",
   "execution_count": 1,
   "id": "bec65900-5062-4167-8a78-750fe6625e33",
   "metadata": {},
   "outputs": [
    {
     "name": "stdout",
     "output_type": "stream",
     "text": [
      "Dileep Panicker ST0010 dilpanicker@yahoo.com\n"
     ]
    }
   ],
   "source": [
    "print(\"Dileep Panicker ST0010 dilpanicker@yahoo.com\")"
   ]
  },
  {
   "cell_type": "markdown",
   "id": "9b0aee66-7865-48a9-924e-27c5204ec32d",
   "metadata": {},
   "source": [
    "## 2"
   ]
  },
  {
   "cell_type": "code",
   "execution_count": null,
   "id": "b2e86e30-f830-4464-8e15-6add39c49cf1",
   "metadata": {},
   "outputs": [],
   "source": [
    "#   Exercise 2 :=> Write Python code that prints your name, student number and email address using escape sequences. \n",
    "#                  An example runs of the program: Bob ST1001 bob@gmail.com "
   ]
  },
  {
   "cell_type": "code",
   "execution_count": 2,
   "id": "f6353653-aaab-433f-b1c8-95bc5e3e1893",
   "metadata": {},
   "outputs": [
    {
     "name": "stdout",
     "output_type": "stream",
     "text": [
      "Dileep Panicker\tST.ID 0010\tdilpanicker@yahoo.com\n"
     ]
    }
   ],
   "source": [
    "print(\"Dileep Panicker\\tST.ID 0010\\tdilpanicker@yahoo.com\")"
   ]
  },
  {
   "cell_type": "markdown",
   "id": "1f0737f7-2ff0-4e03-a81c-5c2a876726b9",
   "metadata": {},
   "source": [
    "## 3"
   ]
  },
  {
   "cell_type": "code",
   "execution_count": null,
   "id": "6ebf34cb-8750-42b3-9894-83ef7e5cc5e5",
   "metadata": {},
   "outputs": [],
   "source": [
    "#  Exercise 3:=> Write Python code that add, subtract, multiply and divide the two numbers. You can use the two numbers 14 and 7. \n",
    "#                An example run of the program: 14 + 7 = 21 14 * 7 = 98 14 – 7 = 7 14 / 7 = 2 "
   ]
  },
  {
   "cell_type": "code",
   "execution_count": 3,
   "id": "a9ed4ea6-e985-461b-b9d4-a05501389656",
   "metadata": {},
   "outputs": [
    {
     "name": "stdout",
     "output_type": "stream",
     "text": [
      "14 + 7 = 21\n",
      "14 - 7 = 7\n",
      "14 * 7 = 98\n",
      "14 / 7 = 2.0\n"
     ]
    }
   ],
   "source": [
    "x = 14\n",
    "y = 7\n",
    "print(f\"{x} + {y} = {x + y}\")                \n",
    "print(f\"{x} - {y} = {x - y}\")\n",
    "print(f\"{x} * {y} = {x * y}\")\n",
    "print(f\"{x} / {y} = {x / y}\")"
   ]
  },
  {
   "cell_type": "markdown",
   "id": "76fbe1cf-fb16-40ec-8b19-4b14372307f5",
   "metadata": {},
   "source": [
    "## 4"
   ]
  },
  {
   "cell_type": "code",
   "execution_count": null,
   "id": "8143397e-13c1-441d-8fbe-563e3a952f7a",
   "metadata": {},
   "outputs": [],
   "source": [
    "# Exercise 4:=> Write Python code that displays the numbers from 1 to 5 as steps. An example runs of the program: 1 2 3 4 5  "
   ]
  },
  {
   "cell_type": "code",
   "execution_count": 4,
   "id": "dcf6d4b5-5eb2-4059-af5d-2853d2591f6a",
   "metadata": {},
   "outputs": [
    {
     "name": "stdout",
     "output_type": "stream",
     "text": [
      "1 2 3 4 5 "
     ]
    }
   ],
   "source": [
    "for i in range(1, 6):\n",
    "    print(i, end=\" \")"
   ]
  },
  {
   "cell_type": "markdown",
   "id": "a382ca85-5ad6-471e-ad24-fb555096a42d",
   "metadata": {},
   "source": [
    "## 5 "
   ]
  },
  {
   "cell_type": "code",
   "execution_count": null,
   "id": "08b8e793-a24a-4d49-849d-1cddb09952e0",
   "metadata": {},
   "outputs": [],
   "source": [
    "# Exercise 5:=>  Write Python code that outputs the following sentence (including the quotation marks and line break) to the screen: \n",
    "#                An example runs of the program: \"SDK\" stands for \"Software Development Kit\", \n",
    "#                whereas \"IDE\" stands for \"Integrated Development Environment\". "
   ]
  },
  {
   "cell_type": "code",
   "execution_count": 5,
   "id": "55431500-4b5a-4c4e-b454-444724fee4be",
   "metadata": {},
   "outputs": [
    {
     "name": "stdout",
     "output_type": "stream",
     "text": [
      "\"SDK\" stands for \"Software Development Kit\", whereas \"IDE\" stands for \"Integrated Development Environment\".\n"
     ]
    }
   ],
   "source": [
    "print(\"\\\"SDK\\\" stands for \\\"Software Development Kit\\\", whereas \\\"IDE\\\" stands for \\\"Integrated Development Environment\\\".\")"
   ]
  },
  {
   "cell_type": "markdown",
   "id": "a3d1ae3c-a884-4427-981a-bd6fcf9b2af8",
   "metadata": {},
   "source": [
    "## 6"
   ]
  },
  {
   "cell_type": "code",
   "execution_count": 8,
   "id": "05cfa9b6-84d9-490c-9a4c-2e965725f09f",
   "metadata": {},
   "outputs": [],
   "source": [
    "# Exercise 6:=> Practice and check the output print(\"python is an \\\"awesome\\\" language.\") \n",
    "#               print(\"python\\n\\t2023\") \n",
    "#               print('I\\'m from Entri.\\b')\n",
    "#               print(\"\\65\") print(\"\\x65\") \n",
    "#               print(\"Entri\", \"2023\", sep=\"\\n\") \n",
    "#               print(\"Entri\", \"2023\", sep=\"\\b\") \n",
    "#               print(\"Entri\", \"2023\", sep=\"*\", end=\"\\b\\b\\b\\b\") "
   ]
  },
  {
   "cell_type": "code",
   "execution_count": 9,
   "id": "29009ea7-76be-4469-894b-62aa8a9518ab",
   "metadata": {},
   "outputs": [
    {
     "name": "stdout",
     "output_type": "stream",
     "text": [
      "python is an \"awesome\" language.\n",
      "python\n",
      "\t2023\n",
      "I'm from Entri\n",
      "5\n",
      "e\n",
      "Entri\n",
      "2023\n",
      "Entr2023\n",
      "Entri*20"
     ]
    }
   ],
   "source": [
    "print(\"python is an \\\"awesome\\\" language.\")  \n",
    "print(\"python\\n\\t2023\")  \n",
    "print('I\\'m from Entri.\\b')  \n",
    "print(\"\\65\")  \n",
    "print(\"\\x65\")  \n",
    "print(\"Entri\", \"2023\", sep=\"\\n\")  \n",
    "print(\"Entri\", \"2023\", sep=\"\\b\")  \n",
    "print(\"Entri\", \"2023\", sep=\"*\", end=\"\\b\\b\\b\\b\")\n"
   ]
  },
  {
   "cell_type": "markdown",
   "id": "f0718e32-6946-4c57-8957-0828203e313b",
   "metadata": {},
   "source": [
    "## 7"
   ]
  },
  {
   "cell_type": "code",
   "execution_count": 10,
   "id": "047a4942-5936-4229-b28e-cde319ad4307",
   "metadata": {},
   "outputs": [],
   "source": [
    "# Exercise 7 :=>  Define the variables below. Print the types of each variable. What is the sum of your variables? \n",
    "#                 (Hint: use a type conversion function.) What datatype is the sum? num=23 textnum=\"57\" decimal=98.3 "
   ]
  },
  {
   "cell_type": "code",
   "execution_count": 11,
   "id": "b2d562fa-60c3-4171-8c48-2258b43e2889",
   "metadata": {},
   "outputs": [
    {
     "name": "stdout",
     "output_type": "stream",
     "text": [
      "Sum =  178.3\n",
      "Type of Sum:  <class 'float'>\n"
     ]
    }
   ],
   "source": [
    "num = 23\n",
    "textnum = \"57\"\n",
    "decimal = 98.3\n",
    "textnum = int(textnum)\n",
    "sum = num+textnum+decimal\n",
    "print(\"Sum = \", sum)\n",
    "print (\"Type of Sum: \",type(sum))\n"
   ]
  },
  {
   "cell_type": "markdown",
   "id": "bfe5a845-27b5-41ac-b8b0-1830b613383e",
   "metadata": {},
   "source": [
    "## 8"
   ]
  },
  {
   "cell_type": "code",
   "execution_count": 12,
   "id": "b51b047b-fdc8-48f9-9d5f-a38cb50aecdd",
   "metadata": {},
   "outputs": [],
   "source": [
    "# Exercise 8 :=> Calculate the number of minutes in a year using variables for each unit of time. \n",
    "#                print a statement that describes what your code does also. Create three variables to store no of days in a year, \n",
    "#                minute in a hour, hours in a day, then calculate the total minutes in a year and print the values \n",
    "#                (hint) total number of minutes in an year =No.of days in an year * Hours in a day * Minutes in an hour "
   ]
  },
  {
   "cell_type": "code",
   "execution_count": 13,
   "id": "688d3d65-c358-4b7a-92f2-aef5b09b58f6",
   "metadata": {},
   "outputs": [
    {
     "name": "stdout",
     "output_type": "stream",
     "text": [
      "The total no. of minute in a year:  525600\n"
     ]
    }
   ],
   "source": [
    "No_Days_in_the_year = 365\n",
    "No_hours_per_day =24\n",
    "No_minutes_per_hour = 60\n",
    "Total_minutes_in_a_year = No_minutes_per_hour * No_hours_per_day * No_Days_in_the_year\n",
    "print(\"The total no. of minute in a year: \", Total_minutes_in_a_year )"
   ]
  },
  {
   "cell_type": "markdown",
   "id": "936f7c42-9a1b-41df-852e-2caf4e998781",
   "metadata": {},
   "source": [
    "## 9"
   ]
  },
  {
   "cell_type": "code",
   "execution_count": 14,
   "id": "c4b6f9b4-c7d3-4653-9065-3162ec83a35c",
   "metadata": {},
   "outputs": [],
   "source": [
    "# Exercise 9 :=> Write Python code that asks the user to enter his/her name and then output/prints his/her name with a greeting. \n",
    "#                An example runs of the program: Please enter you name: Tony Hi Tony, welcome to Python programming :) "
   ]
  },
  {
   "cell_type": "code",
   "execution_count": 15,
   "id": "38c64728-d6c0-434e-bcc6-ca90088ff45a",
   "metadata": {},
   "outputs": [
    {
     "name": "stdin",
     "output_type": "stream",
     "text": [
      "Please enter your name : Dileep\n"
     ]
    },
    {
     "name": "stdout",
     "output_type": "stream",
     "text": [
      "Hi Dileep , Welcome to python programming :)\n"
     ]
    }
   ],
   "source": [
    "Name = input(\"Please enter your name :\")\n",
    "print(\"Hi\", Name ,\",\",\"Welcome to python programming :)\")"
   ]
  },
  {
   "cell_type": "markdown",
   "id": "f2b4c982-3863-4f28-a596-4ad0853d6b7d",
   "metadata": {},
   "source": [
    "## 10"
   ]
  },
  {
   "cell_type": "code",
   "execution_count": null,
   "id": "7350e693-e6f1-47e2-9e48-cff7d28385d2",
   "metadata": {},
   "outputs": [],
   "source": [
    "# Exercise 10 :=> Name your file: PoundsToDollars.py Write a program that asks the user to enter an amount in pounds (£) and the program calculates \n",
    "#                 and converts an amount in dollar ($) An example runs of the program: Please enter amount in pounds: XXX £ XXX are $ XXX"
   ]
  },
  {
   "cell_type": "code",
   "execution_count": 16,
   "id": "5da008b7-77a0-4c46-8001-46fde557b1ab",
   "metadata": {},
   "outputs": [
    {
     "name": "stdin",
     "output_type": "stream",
     "text": [
      "Please enter amount in pounds:  1000\n"
     ]
    },
    {
     "name": "stdout",
     "output_type": "stream",
     "text": [
      "£ 1000.0 are $ 1260.0\n"
     ]
    }
   ],
   "source": [
    "pounds = float(input(\"Please enter amount in pounds: \"))  \n",
    "exchange_rate = 1.26   \n",
    "dollars = pounds * exchange_rate  \n",
    "print(f\"£ {pounds} are $ {dollars}\")  "
   ]
  },
  {
   "cell_type": "code",
   "execution_count": null,
   "id": "0331b809-9fe4-405c-9bc0-d6c38e92c1d4",
   "metadata": {},
   "outputs": [],
   "source": []
  },
  {
   "cell_type": "code",
   "execution_count": null,
   "id": "f012dbc6-4f92-4a66-afa2-50adb5f6fe5b",
   "metadata": {},
   "outputs": [],
   "source": []
  },
  {
   "cell_type": "code",
   "execution_count": null,
   "id": "eeaa7048-e5f9-4454-9372-a9ebed2c2be2",
   "metadata": {},
   "outputs": [],
   "source": []
  },
  {
   "cell_type": "code",
   "execution_count": null,
   "id": "a208f7b3-cf06-4411-b4b6-a568ea256386",
   "metadata": {},
   "outputs": [],
   "source": []
  },
  {
   "cell_type": "code",
   "execution_count": null,
   "id": "d8dacd4d-42c7-487d-8828-955062159a86",
   "metadata": {},
   "outputs": [],
   "source": []
  }
 ],
 "metadata": {
  "kernelspec": {
   "display_name": "Python 3 (ipykernel)",
   "language": "python",
   "name": "python3"
  },
  "language_info": {
   "codemirror_mode": {
    "name": "ipython",
    "version": 3
   },
   "file_extension": ".py",
   "mimetype": "text/x-python",
   "name": "python",
   "nbconvert_exporter": "python",
   "pygments_lexer": "ipython3",
   "version": "3.12.7"
  }
 },
 "nbformat": 4,
 "nbformat_minor": 5
}
