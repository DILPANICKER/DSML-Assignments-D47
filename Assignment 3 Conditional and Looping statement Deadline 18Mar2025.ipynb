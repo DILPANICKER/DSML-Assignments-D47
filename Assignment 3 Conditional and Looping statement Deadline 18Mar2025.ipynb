{
 "cells": [
  {
   "cell_type": "markdown",
   "id": "360e06fc-d4a9-4e0d-af7b-8eb590e06649",
   "metadata": {},
   "source": [
    "## ASSIGNMENT - CONDITIONAL AND LOOPING STATEMENT"
   ]
  },
  {
   "cell_type": "markdown",
   "id": "2001e9d2-bdf1-4526-8e41-56d1fe46ad98",
   "metadata": {},
   "source": [
    "## 1"
   ]
  },
  {
   "cell_type": "code",
   "execution_count": 1,
   "id": "03e1d18e-082c-4cfc-b83b-6f6e74648a08",
   "metadata": {},
   "outputs": [],
   "source": [
    "# Exercise 1\n",
    "# Name your file: MonthNames.py\n",
    "# Write a program that reads an integer value between 1 and 12 from the user and prints output the corresponding month of the year.\n",
    "# An example run of the program (numbers in bold are typed in by the user)\n",
    "# Enter the month: 3\n",
    "# Month 3 is March\n"
   ]
  },
  {
   "cell_type": "code",
   "execution_count": 2,
   "id": "4ea33884-f65a-4401-989c-cd7ad1668fa2",
   "metadata": {},
   "outputs": [
    {
     "name": "stdin",
     "output_type": "stream",
     "text": [
      "Enter the month:  6\n"
     ]
    },
    {
     "name": "stdout",
     "output_type": "stream",
     "text": [
      "Month 6 is June\n"
     ]
    }
   ],
   "source": [
    "month_names = [\n",
    "    \"January\", \"February\", \"March\", \"April\", \"May\", \"June\",\n",
    "    \"July\", \"August\", \"September\", \"October\", \"November\", \"December\"\n",
    "]\n",
    "\n",
    "month_number = int(input(\"Enter the month: \"))\n",
    "if 1 <= month_number <= 12:\n",
    "    print(f\"Month {month_number} is {month_names[month_number - 1]}\")\n",
    "else:\n",
    "    print(\"Invalid month number. Please enter a number between 1 and 12.\")"
   ]
  },
  {
   "cell_type": "markdown",
   "id": "e215b6bf-af2f-4cb4-a146-dfa261806be2",
   "metadata": {},
   "source": [
    "## 2"
   ]
  },
  {
   "cell_type": "code",
   "execution_count": null,
   "id": "729e0e13-40c6-46ae-89c6-2886241641c0",
   "metadata": {},
   "outputs": [],
   "source": [
    "# Exercise 2\n",
    "# A certain cinema currently sells tickets for a full price of 6 pounds, but always sells tickets for half price to people \n",
    "# who are less than 16 years old, and for a third of the price for people who are 60 years old or more.\n",
    "# An example run of the program (numbers in bold are typed in by the user)\n",
    "# Enter your age: 63\n",
    "# Your ticket costs £2.00\n",
    "                      "
   ]
  },
  {
   "cell_type": "code",
   "execution_count": 9,
   "id": "e5169c51-6a53-4d7a-bcd3-cf94f1757afb",
   "metadata": {},
   "outputs": [
    {
     "name": "stdin",
     "output_type": "stream",
     "text": [
      "Enter your age:  71\n"
     ]
    },
    {
     "name": "stdout",
     "output_type": "stream",
     "text": [
      "Your ticket costs £2.00\n"
     ]
    }
   ],
   "source": [
    "age = int(input(\"Enter your age: \"))\n",
    "price = 6\n",
    "if age < 16:\n",
    "    price /= 2\n",
    "elif age >= 60:\n",
    "    price /= 3\n",
    "print(f\"Your ticket costs £{price:.2f}\")"
   ]
  },
  {
   "cell_type": "markdown",
   "id": "b973e5c1-9aa5-4c5e-bc15-c81f86bf72dc",
   "metadata": {},
   "source": [
    "## 3"
   ]
  },
  {
   "cell_type": "code",
   "execution_count": null,
   "id": "02955ac9-30db-4bdb-8e57-d5e46737713d",
   "metadata": {},
   "outputs": [],
   "source": [
    "# Exercise 3\n",
    "# Name your file: BodyMassIndex.py\n",
    "# Write a program to calculate your BMI and give weight status. Body Mass Index (BMI) is an internationally used measurement to check if you are a healthy weight for your height.The metric BMI formula accepts weight in kilograms and height in meters:\n",
    "# BMI= weight(kg)/height2(m2)\n",
    "# BMI Weight Status Categories table\n",
    "# BMI range - kg/m2   Category\n",
    "# Below 18.5                    Underweight\n",
    "# 18.5 -24.9         Normal\n",
    "# 25 - 29.9          Overweight\n",
    "# 30 & Above     Obese\n",
    "# An example run of the program (numbers in bold are typed in by the user)\n",
    "# Enter your weight in (kg): 75\n",
    "# Enter your height in (m): 1.70\n",
    "# Your BMI is: 25.95\n",
    "# You are in the “overweight” range."
   ]
  },
  {
   "cell_type": "code",
   "execution_count": 13,
   "id": "a7dcab83-026e-4864-a389-b5be89295a45",
   "metadata": {},
   "outputs": [
    {
     "name": "stdin",
     "output_type": "stream",
     "text": [
      "Enter your weight in (kg):  62\n",
      "Enter your height in (m):  1.7\n"
     ]
    },
    {
     "name": "stdout",
     "output_type": "stream",
     "text": [
      "Your BMI is: 21.45\n",
      "You are in the \"normal\" range.\n"
     ]
    }
   ],
   "source": [
    "# Name your file: BodyMassIndex.py\n",
    "\n",
    "weight = float(input(\"Enter your weight in (kg): \"))\n",
    "height = float(input(\"Enter your height in (m): \"))\n",
    "BMI = weight / (height ** 2)\n",
    "print(f\"Your BMI is: {BMI:.2f}\")\n",
    "if BMI < 18.5:\n",
    "    print(\"You are in the \\\"underweight\\\" range.\")\n",
    "elif 18.5 <= BMI < 25:\n",
    "    print(\"You are in the \\\"normal\\\" range.\")\n",
    "elif 25 <= BMI < 30:\n",
    "    print(\"You are in the \\\"overweight\\\" range.\")\n",
    "else:\n",
    "    print(\"You are in the \\\"obese\\\" range.\")"
   ]
  },
  {
   "cell_type": "markdown",
   "id": "14affbdf-516e-4ebe-8922-f43f9faba5d4",
   "metadata": {},
   "source": [
    "## 4"
   ]
  },
  {
   "cell_type": "code",
   "execution_count": null,
   "id": "b4bfa20f-493a-49bb-91b3-3d4c96027dcf",
   "metadata": {},
   "outputs": [],
   "source": [
    "# Exercise 4\n",
    "# Write a Python program to receive 3 numbers from the user and print the greatest among them.\n"
   ]
  },
  {
   "cell_type": "code",
   "execution_count": 2,
   "id": "11d947a0-424f-4f3d-8f16-b6a1dd9a6f47",
   "metadata": {},
   "outputs": [
    {
     "name": "stdin",
     "output_type": "stream",
     "text": [
      "Enter the first number:  55\n",
      "Enter the second number:  112\n",
      "Enter the third number:  75\n"
     ]
    },
    {
     "name": "stdout",
     "output_type": "stream",
     "text": [
      "The greatest number is: 112.0\n"
     ]
    }
   ],
   "source": [
    "num1 = float(input(\"Enter the first number: \"))\n",
    "num2 = float(input(\"Enter the second number: \"))\n",
    "num3 = float(input(\"Enter the third number: \"))\n",
    "\n",
    "    \n",
    "greatest = max(num1, num2, num3)\n",
    "print(f\"The greatest number is: {greatest}\")"
   ]
  },
  {
   "cell_type": "markdown",
   "id": "b50ba4d8-4e39-4857-9905-added4dea052",
   "metadata": {},
   "source": [
    "## 5"
   ]
  },
  {
   "cell_type": "code",
   "execution_count": 17,
   "id": "9195b8a6-d4ba-4252-9c51-9b21bc45c099",
   "metadata": {},
   "outputs": [],
   "source": [
    "\n",
    "# Exercise 5\n",
    "# Find the factorial of a given number using loops(note the number is received from the user)\n"
   ]
  },
  {
   "cell_type": "code",
   "execution_count": 7,
   "id": "9c132b0b-c162-404d-94d0-c3af7a007b41",
   "metadata": {},
   "outputs": [
    {
     "name": "stdin",
     "output_type": "stream",
     "text": [
      "Enter a non-negative integer:  5\n"
     ]
    },
    {
     "name": "stdout",
     "output_type": "stream",
     "text": [
      "The factorial of 5 is: 120\n"
     ]
    }
   ],
   "source": [
    "\n",
    "num = int(input(\"Enter a non-negative integer: \"))\n",
    "\n",
    "if num < 0:\n",
    "    print(\"Factorial is not defined for negative numbers.\")\n",
    "else:\n",
    "    factorial = 1\n",
    "\n",
    "for i in range(1, num + 1):\n",
    "    factorial *= i\n",
    "       \n",
    "print(f\"The factorial of {num} is: {factorial}\")\n"
   ]
  },
  {
   "cell_type": "markdown",
   "id": "45b604c9-04f1-426b-a3b7-ae5e52b97371",
   "metadata": {},
   "source": [
    "## 6"
   ]
  },
  {
   "cell_type": "code",
   "execution_count": null,
   "id": "6bcb1ec5-e0db-4f09-824a-4491c267b5e6",
   "metadata": {},
   "outputs": [],
   "source": [
    "# Exercise 6\n",
    "# Reverse a number using while loop\n"
   ]
  },
  {
   "cell_type": "code",
   "execution_count": 17,
   "id": "cf593a42-f2fb-47d9-a496-a1ffe77dc4bd",
   "metadata": {},
   "outputs": [
    {
     "name": "stdin",
     "output_type": "stream",
     "text": [
      "Enter a number:  56789\n"
     ]
    },
    {
     "name": "stdout",
     "output_type": "stream",
     "text": [
      "Reversed number: 98765\n"
     ]
    }
   ],
   "source": [
    "num = int(input(\"Enter a number: \"))\n",
    "reverse = 0\n",
    "while num > 0:\n",
    "    reverse = reverse * 10 + num % 10\n",
    "    num //= 10\n",
    "print(f\"Reversed number: {reverse}\")"
   ]
  },
  {
   "cell_type": "markdown",
   "id": "c912b523-8860-4540-a75c-01dc0fa9a7a2",
   "metadata": {},
   "source": [
    "## 7"
   ]
  },
  {
   "cell_type": "code",
   "execution_count": 20,
   "id": "e5ca0f91-6683-48eb-a91c-f451a6eee849",
   "metadata": {},
   "outputs": [],
   "source": [
    "\n",
    "# Exercise 7\n",
    "# Finding the multiples of a number using loopb"
   ]
  },
  {
   "cell_type": "code",
   "execution_count": 9,
   "id": "fba1f1f3-d3f8-481c-96fb-481ce3b0266a",
   "metadata": {},
   "outputs": [
    {
     "name": "stdin",
     "output_type": "stream",
     "text": [
      "Enter a number:  7\n",
      "Enter the range limit:  7\n"
     ]
    },
    {
     "name": "stdout",
     "output_type": "stream",
     "text": [
      "7 x 1 = 7\n",
      "7 x 2 = 14\n",
      "7 x 3 = 21\n",
      "7 x 4 = 28\n",
      "7 x 5 = 35\n",
      "7 x 6 = 42\n",
      "7 x 7 = 49\n"
     ]
    }
   ],
   "source": [
    "num = int(input(\"Enter a number: \"))\n",
    "limit = int(input(\"Enter the range limit: \"))\n",
    "for i in range(1, limit + 1):\n",
    "    print(f\"{num} x {i} = {num * i}\")"
   ]
  },
  {
   "cell_type": "markdown",
   "id": "7ba54287-b796-4d58-81a6-a52b9adc49b5",
   "metadata": {},
   "source": [
    "## 8 "
   ]
  },
  {
   "cell_type": "code",
   "execution_count": 22,
   "id": "3df9d4d3-6b55-4da6-a1f1-9bf4309deb94",
   "metadata": {},
   "outputs": [],
   "source": [
    "# Exercise 8\n",
    "# Write a program to print the inputted value as it is and break the loop if the value is 'done'.\n",
    "# Example run of the program\n",
    "# :hello there\n",
    "# hello there\n",
    "# :finished\n",
    "# finished\n",
    "# :done\n",
    "# Done\n"
   ]
  },
  {
   "cell_type": "code",
   "execution_count": 23,
   "id": "4fff10a6-5e88-4768-a2d7-d198251fda6e",
   "metadata": {},
   "outputs": [
    {
     "name": "stdin",
     "output_type": "stream",
     "text": [
      "Enter something:  How are you\n"
     ]
    },
    {
     "name": "stdout",
     "output_type": "stream",
     "text": [
      "How are you\n"
     ]
    },
    {
     "name": "stdin",
     "output_type": "stream",
     "text": [
      "Enter something:  Very well\n"
     ]
    },
    {
     "name": "stdout",
     "output_type": "stream",
     "text": [
      "Very well\n"
     ]
    },
    {
     "name": "stdin",
     "output_type": "stream",
     "text": [
      "Enter something:  Done\n"
     ]
    },
    {
     "name": "stdout",
     "output_type": "stream",
     "text": [
      "Done\n"
     ]
    }
   ],
   "source": [
    "while True:\n",
    "    user_input = input(\"Enter something: \")\n",
    "    print(user_input)\n",
    "    if user_input.lower() == 'done':\n",
    "        break\n"
   ]
  },
  {
   "cell_type": "markdown",
   "id": "aa162685-eb8c-4212-925d-2cc4bb3fb3b7",
   "metadata": {},
   "source": [
    "## 9"
   ]
  },
  {
   "cell_type": "code",
   "execution_count": 24,
   "id": "880521ed-2c4c-48c9-ba02-d3931d421297",
   "metadata": {},
   "outputs": [],
   "source": [
    "# Exercise 9\n",
    "# Write a program that prints the numbers from 1 to 10. But for multiples of three print \"Fizz\" instead of the number \n",
    "# and for the multiple of five print \"Buzz\". For numbers which are multiples of both three and five print \"FizzBuzz\"\n"
   ]
  },
  {
   "cell_type": "code",
   "execution_count": 12,
   "id": "90f4531b-dc46-44e5-977e-d0901a4f812d",
   "metadata": {},
   "outputs": [
    {
     "name": "stdout",
     "output_type": "stream",
     "text": [
      "1\n",
      "2\n",
      "Fizz\n",
      "4\n",
      "Buzz\n",
      "Fizz\n",
      "7\n",
      "8\n",
      "Fizz\n",
      "Buzz\n"
     ]
    }
   ],
   "source": [
    "for num in range(1, 11):\n",
    "    if num % 3 == 0 and num % 5 == 0:\n",
    "        print(\"FizzBuzz\")\n",
    "  \n",
    "    elif num % 3 == 0:\n",
    "        print(\"Fizz\")\n",
    " \n",
    "    elif num % 5 == 0:\n",
    "        print(\"Buzz\")\n",
    "    else:\n",
    "        print(num)\n"
   ]
  },
  {
   "cell_type": "markdown",
   "id": "af5eb6b0-018b-424a-b2df-f7ea80202d4a",
   "metadata": {},
   "source": [
    "## 10"
   ]
  },
  {
   "cell_type": "code",
   "execution_count": 26,
   "id": "2c2947fd-1b4e-48cc-a900-82d8fb0bce26",
   "metadata": {},
   "outputs": [],
   "source": [
    "\n",
    "# Exercise 10\n",
    "# Write a program to print the following pattern:\n",
    "\n",
    "# 5 4 3 2 1\n",
    "# 4 3 2 1\n",
    "# 3 2 1\n",
    "# 2 1\n",
    "# 1\n"
   ]
  },
  {
   "cell_type": "code",
   "execution_count": 13,
   "id": "88d12c3c-5bbb-4dee-8b87-96757a75b6d4",
   "metadata": {},
   "outputs": [
    {
     "name": "stdout",
     "output_type": "stream",
     "text": [
      "5 4 3 2 1 \n",
      "4 3 2 1 \n",
      "3 2 1 \n",
      "2 1 \n",
      "1 \n"
     ]
    }
   ],
   "source": [
    "for i in range(5, 0, -1):\n",
    "   \n",
    "    for j in range(i, 0, -1):\n",
    "        print(j, end=\" \")\n",
    "    # Move to the next line after each row\n",
    "    print()\n"
   ]
  },
  {
   "cell_type": "code",
   "execution_count": null,
   "id": "cee6d469-379c-4d46-b610-178b944ea601",
   "metadata": {},
   "outputs": [],
   "source": []
  }
 ],
 "metadata": {
  "kernelspec": {
   "display_name": "Python 3 (ipykernel)",
   "language": "python",
   "name": "python3"
  },
  "language_info": {
   "codemirror_mode": {
    "name": "ipython",
    "version": 3
   },
   "file_extension": ".py",
   "mimetype": "text/x-python",
   "name": "python",
   "nbconvert_exporter": "python",
   "pygments_lexer": "ipython3",
   "version": "3.12.7"
  }
 },
 "nbformat": 4,
 "nbformat_minor": 5
}
